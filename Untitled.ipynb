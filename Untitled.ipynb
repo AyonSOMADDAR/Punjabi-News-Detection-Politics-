{
 "cells": [
  {
   "cell_type": "code",
   "execution_count": 2,
   "id": "e9caaccb",
   "metadata": {},
   "outputs": [],
   "source": [
    "class Punjabi:\n",
    "    \n",
    "    #Punjabi Stemmer Class\n",
    "    \n",
    "\n",
    "    def __init__(self):\n",
    "        self.suffixes = {1: [\"ੀ ਆਂ \", \"िਆਂ\", \"ੂਆਂ\", \"ੀ ਏ\", \"ੀ ਓ\"],\n",
    "                         2: [\"ਈ\", \"ੇ\", \"ू\", \"ु\", \"ी\",\"ਏ\"\n",
    "                             \"ि\", \"ा\", \"ੋ\", \"ਜ\", \"ਜ਼\", \"ਸ\"],\n",
    "                         3: [\"िਓ\", \"ਾ ਂ\", \"ੀ ਂ\", \"ੋ ਂ\",\"ਏ\"],\n",
    "                         4: [\"ਿਉ ਂ\", \"ਵਾਂ\" ],\n",
    "                         5: [\"ੀ ਆ\", \"िਆ\", \"ਈਆ\"]}\n",
    "\n",
    "    def rreplace(self,string, old, new, count=None):\n",
    "      # for replacing old string with new string\n",
    "      string_reverse = string[::-1]\n",
    "      old_reverse = old[::-1]\n",
    "      new_reverse = new[::-1]\n",
    "      if count:\n",
    "          final_reverse = string_reverse.replace(old_reverse, new_reverse, count)\n",
    "      else:\n",
    "          final_reverse = string_reverse.replace(old_reverse, new_reverse)\n",
    "      result = final_reverse[::-1]\n",
    "      return result\n",
    "    \n",
    "    def gen_replacement(self, suf, L):\n",
    "        if L == 1 or L == 5:\n",
    "            return suf[1:]\n",
    "        return suf\n",
    "\n",
    "    def stem(self, text):\n",
    "      # function for stemming the words\n",
    "        tag = [1,2,3,4,5]\n",
    "        tag.reverse()\n",
    "        dic_punj = {}\n",
    "   \n",
    "        for word in text.split():\n",
    "            flag = 0\n",
    "            for L in tag:\n",
    "                if flag == 1:\n",
    "                    break\n",
    "                if len(word) > L + 1:  #checking for minimum 3 letter words\n",
    "                    for suf in self.suffixes[L]:\n",
    "                        if word.endswith(suf):\n",
    "                            word1 = self.rreplace(word,self.gen_replacement(suf,L), '', 1)\n",
    "                            dic_punj[word] = word1\n",
    "                            flag = 1\n",
    "                            break\n",
    "            if flag == 0:\n",
    "              #for word length less than 3 (stop words)\n",
    "                dic_punj[word] = word\n",
    "        return dic_punj\n",
    "       \n"
   ]
  },
  {
   "cell_type": "code",
   "execution_count": 3,
   "id": "fef75bb9",
   "metadata": {},
   "outputs": [
    {
     "data": {
      "text/plain": [
       "{'ਬੜੀ': 'ਬੜੀ',\n",
       " 'ਉਲਫਾਤ': 'ਉਲਫਾਤ',\n",
       " 'ਹੈ': 'ਹੈ',\n",
       " 'ਸੱਜਣਾ': 'ਸੱਜਣਾ',\n",
       " 'ਦਿਲ': 'ਦਿਲ',\n",
       " 'ਵੀ': 'ਵੀ',\n",
       " 'ਤੇਰੀ': 'ਤੇਰੀ',\n",
       " 'ਲਾਈ': 'ਲਾਈ',\n",
       " 'ਕੁਰਬਤ': 'ਕੁਰਬਤ',\n",
       " 'ਦਾ': 'ਦਾ',\n",
       " 'ਅਹਿਸਾਸ': 'ਅਹਿਸਾ',\n",
       " 'ਅਵਾਲਾ': 'ਅਵਾਲਾ',\n",
       " 'ਮੇਰਾ': 'ਮੇਰਾ',\n",
       " 'ਲੇਈ': 'ਲੇਈ',\n",
       " 'ਤੇਨੁ': 'ਤੇਨੁ',\n",
       " 'ਮਿਲਿ': 'ਮਿਲਿ',\n",
       " 'ਖੀਤਾਬ': 'ਖੀਤਾਬ',\n",
       " 'ਹਰ': 'ਹਰ',\n",
       " 'ਵਾਰ': 'ਵਾਰ',\n",
       " 'ਜੇਤੁ': 'ਜੇਤੁ',\n",
       " 'ਤੇ': 'ਤੇ',\n",
       " 'ਹਰਿ': 'ਹਰਿ',\n",
       " 'ਬਾਜੀ': 'ਬਾਜੀ',\n",
       " 'ਵਿਛ': 'ਵਿਛ',\n",
       " 'ਮੇਰੀ': 'ਮੇਰੀ',\n",
       " 'ਮੇਥੋ': 'ਮੇਥ',\n",
       " 'ਹੋਜੇ': 'ਹੋਜ',\n",
       " 'ਤੂ': 'ਤੂ',\n",
       " 'ਮੇਰੇ': 'ਮੇਰ',\n",
       " 'ਲਯੀ': 'ਲਯੀ',\n",
       " 'ਗੀਤ': 'ਗੀਤ',\n",
       " 'ਦੇ': 'ਦੇ',\n",
       " 'ਵਾਰਿ': 'ਵਾਰਿ',\n",
       " 'ਬੈਨ': 'ਬੈਨ',\n",
       " 'ਜੈਵੇ': 'ਜੈਵ',\n",
       " 'ਹਉਲੀ': 'ਹਉਲੀ',\n",
       " 'ਸ਼ਯਾਰ': 'ਸ਼ਯਾਰ',\n",
       " 'ਏ': 'ਏ',\n",
       " 'ਸਰਦਾਰ': 'ਸਰਦਾਰ',\n",
       " '||': '||'}"
      ]
     },
     "execution_count": 3,
     "metadata": {},
     "output_type": "execute_result"
    }
   ],
   "source": [
    "obj = Punjabi()  #object creation\n",
    "text = \"ਬੜੀ ਉਲਫਾਤ ਹੈ ਸੱਜਣਾ ਦਿਲ ਵੀ ਤੇਰੀ ਲਾਈ ਕੁਰਬਤ ਦਾ ਅਹਿਸਾਸ ਅਵਾਲਾ ਮੇਰਾ ਲੇਈ ਤੇਨੁ ਮਿਲਿ ਖੀਤਾਬ ਹਰ ਵਾਰ ਜੇਤੁ ਦਾ ਤੇ ਹਰਿ ਬਾਜੀ ਵਿਛ ਮੇਰੀ ਮੇਥੋ ਹਰਿ ਹੋਜੇ  ਤੂ ਮੇਰੇ ਲਯੀ ਗੀਤ ਦੇ ਵਾਰਿ ਬੈਨ ਜੈਵੇ ਤੇ ਹਉਲੀ ਹਉਲੀ ਸ਼ਯਾਰ ਏ ਸਰਦਾਰ ਹੋਜੇ ||\"\n",
    "obj.stem(text)  #calling stem function"
   ]
  },
  {
   "cell_type": "code",
   "execution_count": null,
   "id": "1a52a3a0",
   "metadata": {},
   "outputs": [],
   "source": []
  }
 ],
 "metadata": {
  "kernelspec": {
   "display_name": "Python 3 (ipykernel)",
   "language": "python",
   "name": "python3"
  },
  "language_info": {
   "codemirror_mode": {
    "name": "ipython",
    "version": 3
   },
   "file_extension": ".py",
   "mimetype": "text/x-python",
   "name": "python",
   "nbconvert_exporter": "python",
   "pygments_lexer": "ipython3",
   "version": "3.10.2"
  }
 },
 "nbformat": 4,
 "nbformat_minor": 5
}
