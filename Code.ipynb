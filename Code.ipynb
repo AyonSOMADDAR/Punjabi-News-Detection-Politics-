{
 "cells": [
  {
   "cell_type": "markdown",
   "id": "9a7a89d6",
   "metadata": {},
   "source": [
    "## Step 1 : Loading the dataset\n",
    "The very first thing which we need to do for making machine learning model is to load the dataset , so that we could do exploratory data analysis on the data stored in dataset.\n",
    "\n",
    "For loading the dataset and converting the data into dataframe we will use pandas library"
   ]
  },
  {
   "cell_type": "code",
   "execution_count": 1,
   "id": "e4eecb4f",
   "metadata": {},
   "outputs": [
    {
     "data": {
      "text/html": [
       "<div>\n",
       "<style scoped>\n",
       "    .dataframe tbody tr th:only-of-type {\n",
       "        vertical-align: middle;\n",
       "    }\n",
       "\n",
       "    .dataframe tbody tr th {\n",
       "        vertical-align: top;\n",
       "    }\n",
       "\n",
       "    .dataframe thead th {\n",
       "        text-align: right;\n",
       "    }\n",
       "</style>\n",
       "<table border=\"1\" class=\"dataframe\">\n",
       "  <thead>\n",
       "    <tr style=\"text-align: right;\">\n",
       "      <th></th>\n",
       "      <th>article</th>\n",
       "      <th>is_about_politics</th>\n",
       "    </tr>\n",
       "  </thead>\n",
       "  <tbody>\n",
       "    <tr>\n",
       "      <th>0</th>\n",
       "      <td>ਮਾਇਆਵਤੀ ਅਤੇ ਮੁਲਾਇਮ ਸਿੰਘ ਯਾਦਵ ਨੂੰ ਦੁਸ਼ਮਣ ਬਣਾਉਣ...</td>\n",
       "      <td>True</td>\n",
       "    </tr>\n",
       "    <tr>\n",
       "      <th>1</th>\n",
       "      <td>ਇਸ ਤੇਲਗੂ ਫਿਲਮ ਅਦਾਕਾਰਾ ਨੇ ਕਿਉਂ ਲਾਹੇ ਸੜਕ 'ਤੇ ਕੱ...</td>\n",
       "      <td>False</td>\n",
       "    </tr>\n",
       "    <tr>\n",
       "      <th>2</th>\n",
       "      <td>ਵੈਸਟਮਿਨਸਟਰ ਕਾਰ ਹਾਦਸਾ: ਸ਼ੱਕੀ ਅੱਤਵਾਦੀ ਵਾਰਦਾਤ ਦੇ...</td>\n",
       "      <td>False</td>\n",
       "    </tr>\n",
       "    <tr>\n",
       "      <th>3</th>\n",
       "      <td>ਪਾਕਿਸਤਾਨ ਵਿੱਚ ਇਸਰਾਈਲ ਦੇ ਜਹਾਜ਼ ਨੇ ਇੰਝ ਮੱਚਾਈ ‘ਤ...</td>\n",
       "      <td>False</td>\n",
       "    </tr>\n",
       "    <tr>\n",
       "      <th>4</th>\n",
       "      <td>ਮਨਦੀਪ ਸਿੰਘ ਇਸ ਵੇਲੇ ਇਟਲੀ ਰਹਿ ਰਹੇ ਹਨ। ਬੀਬੀਸੀ ਪੰ...</td>\n",
       "      <td>False</td>\n",
       "    </tr>\n",
       "    <tr>\n",
       "      <th>...</th>\n",
       "      <td>...</td>\n",
       "      <td>...</td>\n",
       "    </tr>\n",
       "    <tr>\n",
       "      <th>622</th>\n",
       "      <td>ਓਮ ਪੁਰੀ ਜਦੋਂ ਪੰਜਾਬੀ ਬੋਲਣ ਦੇ ਅੰਦਾਜ਼ ਤੋਂ ਬੰਦੇ ਦ...</td>\n",
       "      <td>False</td>\n",
       "    </tr>\n",
       "    <tr>\n",
       "      <th>623</th>\n",
       "      <td>ਮੈਕਸੀਕੋ ਦੀ ਇਸ ਲੜਕੀ ਨੂੰ ਲੱਖਾਂ ਲੋਕ ਪਸੰਦ ਕਰਦੇ ਹਨ...</td>\n",
       "      <td>False</td>\n",
       "    </tr>\n",
       "    <tr>\n",
       "      <th>624</th>\n",
       "      <td>84 ਸਿੱਖ ਕਤਲੇਆਮ : ਸੱਜਣ ਕੁਮਾਰ ਕੁਮਾਰ ਸਣੇ 5 ਆਗੂ ਜ...</td>\n",
       "      <td>False</td>\n",
       "    </tr>\n",
       "    <tr>\n",
       "      <th>625</th>\n",
       "      <td>WHO ਮੁਤਾਬਕ ਦੁਨੀਆਂ ਵਿੱਚ ਹਰ ਸਾਲ 5.6 ਕਰੋੜ ਔਰਤਾਂ ...</td>\n",
       "      <td>False</td>\n",
       "    </tr>\n",
       "    <tr>\n",
       "      <th>626</th>\n",
       "      <td>ਬਲਾਤਕਾਰ ਦੇ ਦੋਸ਼ਾਂ 'ਚ ਘਿਰੇ ਬਿਸ਼ਪ ਨੇ ਦਿੱਤੀ ਸਫ਼ਾ...</td>\n",
       "      <td>False</td>\n",
       "    </tr>\n",
       "  </tbody>\n",
       "</table>\n",
       "<p>627 rows × 2 columns</p>\n",
       "</div>"
      ],
      "text/plain": [
       "                                               article  is_about_politics\n",
       "0     ਮਾਇਆਵਤੀ ਅਤੇ ਮੁਲਾਇਮ ਸਿੰਘ ਯਾਦਵ ਨੂੰ ਦੁਸ਼ਮਣ ਬਣਾਉਣ...               True\n",
       "1     ਇਸ ਤੇਲਗੂ ਫਿਲਮ ਅਦਾਕਾਰਾ ਨੇ ਕਿਉਂ ਲਾਹੇ ਸੜਕ 'ਤੇ ਕੱ...              False\n",
       "2     ਵੈਸਟਮਿਨਸਟਰ ਕਾਰ ਹਾਦਸਾ: ਸ਼ੱਕੀ ਅੱਤਵਾਦੀ ਵਾਰਦਾਤ ਦੇ...              False\n",
       "3     ਪਾਕਿਸਤਾਨ ਵਿੱਚ ਇਸਰਾਈਲ ਦੇ ਜਹਾਜ਼ ਨੇ ਇੰਝ ਮੱਚਾਈ ‘ਤ...              False\n",
       "4     ਮਨਦੀਪ ਸਿੰਘ ਇਸ ਵੇਲੇ ਇਟਲੀ ਰਹਿ ਰਹੇ ਹਨ। ਬੀਬੀਸੀ ਪੰ...              False\n",
       "..                                                 ...                ...\n",
       "622   ਓਮ ਪੁਰੀ ਜਦੋਂ ਪੰਜਾਬੀ ਬੋਲਣ ਦੇ ਅੰਦਾਜ਼ ਤੋਂ ਬੰਦੇ ਦ...              False\n",
       "623   ਮੈਕਸੀਕੋ ਦੀ ਇਸ ਲੜਕੀ ਨੂੰ ਲੱਖਾਂ ਲੋਕ ਪਸੰਦ ਕਰਦੇ ਹਨ...              False\n",
       "624   84 ਸਿੱਖ ਕਤਲੇਆਮ : ਸੱਜਣ ਕੁਮਾਰ ਕੁਮਾਰ ਸਣੇ 5 ਆਗੂ ਜ...              False\n",
       "625   WHO ਮੁਤਾਬਕ ਦੁਨੀਆਂ ਵਿੱਚ ਹਰ ਸਾਲ 5.6 ਕਰੋੜ ਔਰਤਾਂ ...              False\n",
       "626   ਬਲਾਤਕਾਰ ਦੇ ਦੋਸ਼ਾਂ 'ਚ ਘਿਰੇ ਬਿਸ਼ਪ ਨੇ ਦਿੱਤੀ ਸਫ਼ਾ...              False\n",
       "\n",
       "[627 rows x 2 columns]"
      ]
     },
     "execution_count": 1,
     "metadata": {},
     "output_type": "execute_result"
    }
   ],
   "source": [
    "import pandas as pd\n",
    "data = pd.read_csv('train.csv')\n",
    "data"
   ]
  },
  {
   "cell_type": "markdown",
   "id": "5b29d232",
   "metadata": {},
   "source": [
    "## Step 2 : Exploratory Data Analysis ( Phase 1 )\n",
    "EDA also kwnown as Exploratory data analysis is one of the important part of machine learning project life cycle , and is used in order to understand the data , so that we could perform feature engineering on the dataset efficiently if needed.\n",
    "\n",
    "During exploratory data analysis , first of all we will start with some basic questions⬇️\n",
    "\n",
    "1. What is the shape of the dataset ?\n",
    "2. How dataset looks like ?\n",
    "3. Datatype of features/Columns\n",
    "4. Check any null values\n",
    "5. Check any duplicate value"
   ]
  },
  {
   "cell_type": "code",
   "execution_count": 2,
   "id": "b1ca6a43",
   "metadata": {},
   "outputs": [
    {
     "data": {
      "text/plain": [
       "(627, 2)"
      ]
     },
     "execution_count": 2,
     "metadata": {},
     "output_type": "execute_result"
    }
   ],
   "source": [
    "# Checking the shape of the dataset\n",
    "data.shape"
   ]
  },
  {
   "cell_type": "code",
   "execution_count": 3,
   "id": "925aa7a1",
   "metadata": {},
   "outputs": [
    {
     "data": {
      "text/html": [
       "<div>\n",
       "<style scoped>\n",
       "    .dataframe tbody tr th:only-of-type {\n",
       "        vertical-align: middle;\n",
       "    }\n",
       "\n",
       "    .dataframe tbody tr th {\n",
       "        vertical-align: top;\n",
       "    }\n",
       "\n",
       "    .dataframe thead th {\n",
       "        text-align: right;\n",
       "    }\n",
       "</style>\n",
       "<table border=\"1\" class=\"dataframe\">\n",
       "  <thead>\n",
       "    <tr style=\"text-align: right;\">\n",
       "      <th></th>\n",
       "      <th>article</th>\n",
       "      <th>is_about_politics</th>\n",
       "    </tr>\n",
       "  </thead>\n",
       "  <tbody>\n",
       "    <tr>\n",
       "      <th>223</th>\n",
       "      <td>5G ਚੀਨੀ ਫੋਨ ਤੋਂ ਕਿਉਂ ਡਰ ਰਹੇ ਨੇ ਕਈ ਦੇਸ      30...</td>\n",
       "      <td>False</td>\n",
       "    </tr>\n",
       "    <tr>\n",
       "      <th>475</th>\n",
       "      <td>ਅੰਮ੍ਰਿਤਸਰ ਰੇਲ ਹਾਦਸਾ : ਮਰੀਜ਼ ਇਲਾਜ ਤੋਂ ਬਾਅਦ ਵੀ ...</td>\n",
       "      <td>False</td>\n",
       "    </tr>\n",
       "    <tr>\n",
       "      <th>567</th>\n",
       "      <td>'ਮੈਂ ਆਪਣੇ ਬੁਆਏ ਫਰੈਂਡ ਤੋਂ ਆਪਣੀ ਤਨਖ਼ਾਹ ਇਸ ਲਈ ਲੁ...</td>\n",
       "      <td>False</td>\n",
       "    </tr>\n",
       "    <tr>\n",
       "      <th>455</th>\n",
       "      <td>ਗੇਮ ਵਿੱਚ ਇਹ ਦਖਾਉਣ ਦੀ ਕੋਸ਼ਿਸ਼ ਕੀਤੀ ਗਈ ਹੈ ਕਿ ਕੋ...</td>\n",
       "      <td>False</td>\n",
       "    </tr>\n",
       "    <tr>\n",
       "      <th>314</th>\n",
       "      <td>ਅਕਾਲੀ ਦਲ ਬਾਦਲ 'ਚੋਂ ਛੁੱਟੀ ਹੋਣ 'ਤੇ ਅਜਨਾਲਾ ਤੇ ਬ੍...</td>\n",
       "      <td>True</td>\n",
       "    </tr>\n",
       "  </tbody>\n",
       "</table>\n",
       "</div>"
      ],
      "text/plain": [
       "                                               article  is_about_politics\n",
       "223   5G ਚੀਨੀ ਫੋਨ ਤੋਂ ਕਿਉਂ ਡਰ ਰਹੇ ਨੇ ਕਈ ਦੇਸ      30...              False\n",
       "475   ਅੰਮ੍ਰਿਤਸਰ ਰੇਲ ਹਾਦਸਾ : ਮਰੀਜ਼ ਇਲਾਜ ਤੋਂ ਬਾਅਦ ਵੀ ...              False\n",
       "567   'ਮੈਂ ਆਪਣੇ ਬੁਆਏ ਫਰੈਂਡ ਤੋਂ ਆਪਣੀ ਤਨਖ਼ਾਹ ਇਸ ਲਈ ਲੁ...              False\n",
       "455   ਗੇਮ ਵਿੱਚ ਇਹ ਦਖਾਉਣ ਦੀ ਕੋਸ਼ਿਸ਼ ਕੀਤੀ ਗਈ ਹੈ ਕਿ ਕੋ...              False\n",
       "314   ਅਕਾਲੀ ਦਲ ਬਾਦਲ 'ਚੋਂ ਛੁੱਟੀ ਹੋਣ 'ਤੇ ਅਜਨਾਲਾ ਤੇ ਬ੍...               True"
      ]
     },
     "execution_count": 3,
     "metadata": {},
     "output_type": "execute_result"
    }
   ],
   "source": [
    "# Checking any random 5 rows in the dataset\n",
    "data.sample(5)"
   ]
  },
  {
   "cell_type": "code",
   "execution_count": 5,
   "id": "44538402",
   "metadata": {},
   "outputs": [
    {
     "name": "stdout",
     "output_type": "stream",
     "text": [
      "<class 'pandas.core.frame.DataFrame'>\n",
      "RangeIndex: 627 entries, 0 to 626\n",
      "Data columns (total 2 columns):\n",
      " #   Column             Non-Null Count  Dtype \n",
      "---  ------             --------------  ----- \n",
      " 0   article            627 non-null    object\n",
      " 1   is_about_politics  627 non-null    bool  \n",
      "dtypes: bool(1), object(1)\n",
      "memory usage: 5.6+ KB\n"
     ]
    }
   ],
   "source": [
    "# Checking the datatype of features\n",
    "data.info()"
   ]
  },
  {
   "cell_type": "code",
   "execution_count": 6,
   "id": "2e20ff77",
   "metadata": {},
   "outputs": [
    {
     "data": {
      "text/plain": [
       "article              0\n",
       "is_about_politics    0\n",
       "dtype: int64"
      ]
     },
     "execution_count": 6,
     "metadata": {},
     "output_type": "execute_result"
    }
   ],
   "source": [
    "# Checking any null values\n",
    "data.isnull().sum()"
   ]
  },
  {
   "cell_type": "code",
   "execution_count": 7,
   "id": "3207fdb7",
   "metadata": {},
   "outputs": [
    {
     "data": {
      "text/plain": [
       "0"
      ]
     },
     "execution_count": 7,
     "metadata": {},
     "output_type": "execute_result"
    }
   ],
   "source": [
    "# Checking any null values\n",
    "data.duplicated().sum()"
   ]
  },
  {
   "cell_type": "markdown",
   "id": "72f8fd08",
   "metadata": {},
   "source": [
    "## Exploratory data analysis : Phase 2 \n",
    "During this phase we will try to visualize the dataset , using seaborn library "
   ]
  },
  {
   "cell_type": "code",
   "execution_count": 8,
   "id": "3c8a873d",
   "metadata": {},
   "outputs": [
    {
     "name": "stderr",
     "output_type": "stream",
     "text": [
      "C:\\Users\\YUVRAJ\\AppData\\Local\\Programs\\Python\\Python310\\lib\\site-packages\\seaborn\\_decorators.py:36: FutureWarning: Pass the following variable as a keyword arg: x. From version 0.12, the only valid positional argument will be `data`, and passing other arguments without an explicit keyword will result in an error or misinterpretation.\n",
      "  warnings.warn(\n"
     ]
    },
    {
     "data": {
      "text/plain": [
       "<AxesSubplot:xlabel='is_about_politics', ylabel='count'>"
      ]
     },
     "execution_count": 8,
     "metadata": {},
     "output_type": "execute_result"
    },
    {
     "data": {
      "image/png": "[encoded data removed]",
      "text/plain": [
       "<Figure size 432x288 with 1 Axes>"
      ]
     },
     "metadata": {
      "needs_background": "light"
     },
     "output_type": "display_data"
    }
   ],
   "source": [
    "import seaborn as sns\n",
    "sns.countplot(data['is_about_politics'])"
   ]
  },
  {
   "cell_type": "code",
   "execution_count": 9,
   "id": "855dcb95",
   "metadata": {},
   "outputs": [
    {
     "data": {
      "text/plain": [
       "<AxesSubplot:ylabel='is_about_politics'>"
      ]
     },
     "execution_count": 9,
     "metadata": {},
     "output_type": "execute_result"
    },
    {
     "data": {
      "image/png": "[encoded data removed]",
      "text/plain": [
       "<Figure size 432x288 with 1 Axes>"
      ]
     },
     "metadata": {},
     "output_type": "display_data"
    }
   ],
   "source": [
    "data['is_about_politics'].value_counts().plot(kind='pie', autopct='%.2f')"
   ]
  },
  {
   "cell_type": "markdown",
   "id": "d416826c",
   "metadata": {},
   "source": [
    "By doing the exploratory data analysis we got to know that most of the news are fake and the dataset is unbalanced so we need to balance the dataset"
   ]
  },
  {
   "cell_type": "markdown",
   "id": "592917e9",
   "metadata": {},
   "source": [
    "### Step 3 : Cleaning the data and handling unbalanced dataset\n",
    "\n",
    "After doing the exploratory data analysis on our dataset , we got to know that there are some missing values present in our dataset and at the same time , for the prediction purpose the id and the text feature will not contribute a lot , thus we will drop these columns.Not only this in this phase we will also apply some important process on our dataframe such as tokenization , lowering the sentences , stop word removal and lemmatization .\n",
    "\n",
    "Before implementing all these processes we must be aware about what actually we are doing\n",
    "\n",
    "1. **Tokenization** : Using this process we break down the large text into small text known as tokens , so that it becomes easy for us to do further processing and also it becomes easy for machine learning model to deduce meaning from sentence efficiently.\n",
    "\n",
    "2. **Lowering the sentence** : This process helps us to reduce the case sensitiviy of data in the dataframe , and if we will not implement this process then both 'Hut' and 'hut' will be processed as if they are different , even though they are not.\n",
    "\n",
    "3. **Stop words removal** : Stop word are removed so that the processing of the text becomes efficinet as stop words are those words which don't contribute a lot while deducing the meaning from the sentence.\n",
    "\n",
    "4. **Leammatization** : This process is done in order to reduce the inflection of words to their base form by doing the contextual analysis of the word"
   ]
  },
  {
   "cell_type": "code",
   "execution_count": 43,
   "id": "d7c79ca9",
   "metadata": {},
   "outputs": [],
   "source": [
    "import re\n",
    "import nltk\n",
    "from nltk.stem import WordNetLemmatizer"
   ]
  },
  {
   "cell_type": "code",
   "execution_count": 44,
   "id": "2b7580d3",
   "metadata": {},
   "outputs": [],
   "source": [
    "stopwords = ['ਦੀ','ਦੇ','ਹੈ','ਨੂੰ','ਵਿਚ','ਦਾ','ਤੇ','ਅਤੇ','ਇਸ'\n",
    "            ,'ਵੀ','ਨੇ','ਹਨ', 'ਨਾਲ' ,'ਤੋਂ','ਕਿ','ਕੇ','ਹੀ',\n",
    "            'ਲਈ','ਸੀ','ਉਸ','ਤਾਂ','ਇਹ','ਨਹੀਂ','ਇਕ','ਚ',\n",
    "            'ਹੋ','ਉਹ','ਕਰਨ','ਆਪਣੇ','ਜੋ','ਕਰਕੇ','ਕਰ',\n",
    "            'ਪਰ','ਕੋਈ','ਗਿਆ','ਰਹੇ','ਦੀਆਂ','ਜਾਂ','ਕੀਤਾ',\n",
    "            'ਕੀਤੀ','ਨਾ','ਜਾਂਦਾ','ਜਾ','ਸਨ','ਜਿਸ']"
   ]
  },
  {
   "cell_type": "code",
   "execution_count": 45,
   "id": "dcf77981",
   "metadata": {},
   "outputs": [],
   "source": [
    "lemm = WordNetLemmatizer()\n",
    "corpus = []\n",
    "for i in range(0, len(data)):\n",
    "    clean = re.sub('[^ਓ-ਲ਼ ਾ-ੌ ਂ-ੱ]', ' ', data['article'][i])  # Removal of punctuations and numbers\n",
    "    clean = clean.split()  # Tokenization\n",
    "    \n",
    "    clean = [lemm.lemmatize(word) for word in clean if not word in stopwords]\n",
    "    clean = ' '.join(clean)\n",
    "    corpus.append(clean)"
   ]
  },
  {
   "cell_type": "code",
   "execution_count": 47,
   "id": "10bb4a26",
   "metadata": {},
   "outputs": [
    {
     "data": {
      "text/html": [
       "<div>\n",
       "<style scoped>\n",
       "    .dataframe tbody tr th:only-of-type {\n",
       "        vertical-align: middle;\n",
       "    }\n",
       "\n",
       "    .dataframe tbody tr th {\n",
       "        vertical-align: top;\n",
       "    }\n",
       "\n",
       "    .dataframe thead th {\n",
       "        text-align: right;\n",
       "    }\n",
       "</style>\n",
       "<table border=\"1\" class=\"dataframe\">\n",
       "  <thead>\n",
       "    <tr style=\"text-align: right;\">\n",
       "      <th></th>\n",
       "      <th>Articles</th>\n",
       "    </tr>\n",
       "  </thead>\n",
       "  <tbody>\n",
       "    <tr>\n",
       "      <th>0</th>\n",
       "      <td>ਮਾਇਆਵਤੀ ਮੁਲਾਇਮ ਸਿੰਘ ਯਾਦਵ ਦੁਸ਼ਮਣ ਬਣਾਉਣ ਵਾਲਾ ਗੈਸ...</td>\n",
       "    </tr>\n",
       "    <tr>\n",
       "      <th>1</th>\n",
       "      <td>ਤੇਲਗੂ ਫਿਲਮ ਅਦਾਕਾਰਾ ਕਿਉਂ ਲਾਹੇ ਸੜਕ ਕੱਪੜੇ ਪਦਮਾ ਮੀ...</td>\n",
       "    </tr>\n",
       "    <tr>\n",
       "      <th>2</th>\n",
       "      <td>ਵੈਸਟਮਿਨਸਟਰ ਕਾਰ ਹਾਦਸਾ ਸ਼ੱਕੀ ਅੱਤਵਾਦੀ ਵਾਰਦਾਤ ਦੋਸ਼...</td>\n",
       "    </tr>\n",
       "    <tr>\n",
       "      <th>3</th>\n",
       "      <td>ਪਾਕਿਸਤਾਨ ਵਿੱਚ ਇਸਰਾਈਲ ਜਹਾਜ਼ ਇੰਝ ਮੱਚਾਈ ਤਰਥੱਲੀ ਤਾ...</td>\n",
       "    </tr>\n",
       "    <tr>\n",
       "      <th>4</th>\n",
       "      <td>ਮਨਦੀਪ ਸਿੰਘ ਵੇਲੇ ਇਟਲੀ ਰਹਿ ਬੀਬੀਸੀ ਪੰਜਾਬੀ ਉਨ੍ਹਾਂ ...</td>\n",
       "    </tr>\n",
       "    <tr>\n",
       "      <th>...</th>\n",
       "      <td>...</td>\n",
       "    </tr>\n",
       "    <tr>\n",
       "      <th>622</th>\n",
       "      <td>ਓਮ ਪੁਰੀ ਜਦੋਂ ਪੰਜਾਬੀ ਬੋਲਣ ਅੰਦਾਜ਼ ਬੰਦੇ ਇਲਾਕੇ ਬਾਰ...</td>\n",
       "    </tr>\n",
       "    <tr>\n",
       "      <th>623</th>\n",
       "      <td>ਮੈਕਸੀਕੋ ਲੜਕੀ ਲੱਖਾਂ ਲੋਕ ਪਸੰਦ ਕਰਦੇ ਫਿਰ ਘਬਰਾਹਟ ਰਹ...</td>\n",
       "    </tr>\n",
       "    <tr>\n",
       "      <th>624</th>\n",
       "      <td>ਸਿੱਖ ਕਤਲੇਆਮ ਸੱਜਣ ਕੁਮਾਰ ਕੁਮਾਰ ਸਣੇ ਆਗੂ ਜਿਨ੍ਹਾਂ ਲ...</td>\n",
       "    </tr>\n",
       "    <tr>\n",
       "      <th>625</th>\n",
       "      <td>ਮੁਤਾਬਕ ਦੁਨੀਆਂ ਵਿੱਚ ਹਰ ਸਾਲ ਕਰੋੜ ਔਰਤਾਂ ਗਰਭਪਾਤ ਕਰ...</td>\n",
       "    </tr>\n",
       "    <tr>\n",
       "      <th>626</th>\n",
       "      <td>ਬਲਾਤਕਾਰ ਦੋਸ਼ਾਂ ਘਿਰੇ ਬਿਸ਼ਪ ਦਿੱਤੀ ਸਫ਼ਾਈ ਅਰਵਿੰਦ ਛ...</td>\n",
       "    </tr>\n",
       "  </tbody>\n",
       "</table>\n",
       "<p>627 rows × 1 columns</p>\n",
       "</div>"
      ],
      "text/plain": [
       "                                              Articles\n",
       "0    ਮਾਇਆਵਤੀ ਮੁਲਾਇਮ ਸਿੰਘ ਯਾਦਵ ਦੁਸ਼ਮਣ ਬਣਾਉਣ ਵਾਲਾ ਗੈਸ...\n",
       "1    ਤੇਲਗੂ ਫਿਲਮ ਅਦਾਕਾਰਾ ਕਿਉਂ ਲਾਹੇ ਸੜਕ ਕੱਪੜੇ ਪਦਮਾ ਮੀ...\n",
       "2    ਵੈਸਟਮਿਨਸਟਰ ਕਾਰ ਹਾਦਸਾ ਸ਼ੱਕੀ ਅੱਤਵਾਦੀ ਵਾਰਦਾਤ ਦੋਸ਼...\n",
       "3    ਪਾਕਿਸਤਾਨ ਵਿੱਚ ਇਸਰਾਈਲ ਜਹਾਜ਼ ਇੰਝ ਮੱਚਾਈ ਤਰਥੱਲੀ ਤਾ...\n",
       "4    ਮਨਦੀਪ ਸਿੰਘ ਵੇਲੇ ਇਟਲੀ ਰਹਿ ਬੀਬੀਸੀ ਪੰਜਾਬੀ ਉਨ੍ਹਾਂ ...\n",
       "..                                                 ...\n",
       "622  ਓਮ ਪੁਰੀ ਜਦੋਂ ਪੰਜਾਬੀ ਬੋਲਣ ਅੰਦਾਜ਼ ਬੰਦੇ ਇਲਾਕੇ ਬਾਰ...\n",
       "623  ਮੈਕਸੀਕੋ ਲੜਕੀ ਲੱਖਾਂ ਲੋਕ ਪਸੰਦ ਕਰਦੇ ਫਿਰ ਘਬਰਾਹਟ ਰਹ...\n",
       "624  ਸਿੱਖ ਕਤਲੇਆਮ ਸੱਜਣ ਕੁਮਾਰ ਕੁਮਾਰ ਸਣੇ ਆਗੂ ਜਿਨ੍ਹਾਂ ਲ...\n",
       "625  ਮੁਤਾਬਕ ਦੁਨੀਆਂ ਵਿੱਚ ਹਰ ਸਾਲ ਕਰੋੜ ਔਰਤਾਂ ਗਰਭਪਾਤ ਕਰ...\n",
       "626  ਬਲਾਤਕਾਰ ਦੋਸ਼ਾਂ ਘਿਰੇ ਬਿਸ਼ਪ ਦਿੱਤੀ ਸਫ਼ਾਈ ਅਰਵਿੰਦ ਛ...\n",
       "\n",
       "[627 rows x 1 columns]"
      ]
     },
     "execution_count": 47,
     "metadata": {},
     "output_type": "execute_result"
    }
   ],
   "source": [
    "testdata = pd.DataFrame(corpus)\n",
    "testdata.columns = ['Articles']\n",
    "testdata"
   ]
  },
  {
   "cell_type": "code",
   "execution_count": 48,
   "id": "a4c1836b",
   "metadata": {},
   "outputs": [
    {
     "data": {
      "text/html": [
       "<div>\n",
       "<style scoped>\n",
       "    .dataframe tbody tr th:only-of-type {\n",
       "        vertical-align: middle;\n",
       "    }\n",
       "\n",
       "    .dataframe tbody tr th {\n",
       "        vertical-align: top;\n",
       "    }\n",
       "\n",
       "    .dataframe thead th {\n",
       "        text-align: right;\n",
       "    }\n",
       "</style>\n",
       "<table border=\"1\" class=\"dataframe\">\n",
       "  <thead>\n",
       "    <tr style=\"text-align: right;\">\n",
       "      <th></th>\n",
       "      <th>article</th>\n",
       "      <th>is_about_politics</th>\n",
       "    </tr>\n",
       "  </thead>\n",
       "  <tbody>\n",
       "    <tr>\n",
       "      <th>0</th>\n",
       "      <td>ਮਾਇਆਵਤੀ ਮੁਲਾਇਮ ਸਿੰਘ ਯਾਦਵ ਦੁਸ਼ਮਣ ਬਣਾਉਣ ਵਾਲਾ ਗੈਸ...</td>\n",
       "      <td>True</td>\n",
       "    </tr>\n",
       "    <tr>\n",
       "      <th>1</th>\n",
       "      <td>ਤੇਲਗੂ ਫਿਲਮ ਅਦਾਕਾਰਾ ਕਿਉਂ ਲਾਹੇ ਸੜਕ ਕੱਪੜੇ ਪਦਮਾ ਮੀ...</td>\n",
       "      <td>False</td>\n",
       "    </tr>\n",
       "    <tr>\n",
       "      <th>2</th>\n",
       "      <td>ਵੈਸਟਮਿਨਸਟਰ ਕਾਰ ਹਾਦਸਾ ਸ਼ੱਕੀ ਅੱਤਵਾਦੀ ਵਾਰਦਾਤ ਦੋਸ਼...</td>\n",
       "      <td>False</td>\n",
       "    </tr>\n",
       "    <tr>\n",
       "      <th>3</th>\n",
       "      <td>ਪਾਕਿਸਤਾਨ ਵਿੱਚ ਇਸਰਾਈਲ ਜਹਾਜ਼ ਇੰਝ ਮੱਚਾਈ ਤਰਥੱਲੀ ਤਾ...</td>\n",
       "      <td>False</td>\n",
       "    </tr>\n",
       "    <tr>\n",
       "      <th>4</th>\n",
       "      <td>ਮਨਦੀਪ ਸਿੰਘ ਵੇਲੇ ਇਟਲੀ ਰਹਿ ਬੀਬੀਸੀ ਪੰਜਾਬੀ ਉਨ੍ਹਾਂ ...</td>\n",
       "      <td>False</td>\n",
       "    </tr>\n",
       "    <tr>\n",
       "      <th>...</th>\n",
       "      <td>...</td>\n",
       "      <td>...</td>\n",
       "    </tr>\n",
       "    <tr>\n",
       "      <th>622</th>\n",
       "      <td>ਓਮ ਪੁਰੀ ਜਦੋਂ ਪੰਜਾਬੀ ਬੋਲਣ ਅੰਦਾਜ਼ ਬੰਦੇ ਇਲਾਕੇ ਬਾਰ...</td>\n",
       "      <td>False</td>\n",
       "    </tr>\n",
       "    <tr>\n",
       "      <th>623</th>\n",
       "      <td>ਮੈਕਸੀਕੋ ਲੜਕੀ ਲੱਖਾਂ ਲੋਕ ਪਸੰਦ ਕਰਦੇ ਫਿਰ ਘਬਰਾਹਟ ਰਹ...</td>\n",
       "      <td>False</td>\n",
       "    </tr>\n",
       "    <tr>\n",
       "      <th>624</th>\n",
       "      <td>ਸਿੱਖ ਕਤਲੇਆਮ ਸੱਜਣ ਕੁਮਾਰ ਕੁਮਾਰ ਸਣੇ ਆਗੂ ਜਿਨ੍ਹਾਂ ਲ...</td>\n",
       "      <td>False</td>\n",
       "    </tr>\n",
       "    <tr>\n",
       "      <th>625</th>\n",
       "      <td>ਮੁਤਾਬਕ ਦੁਨੀਆਂ ਵਿੱਚ ਹਰ ਸਾਲ ਕਰੋੜ ਔਰਤਾਂ ਗਰਭਪਾਤ ਕਰ...</td>\n",
       "      <td>False</td>\n",
       "    </tr>\n",
       "    <tr>\n",
       "      <th>626</th>\n",
       "      <td>ਬਲਾਤਕਾਰ ਦੋਸ਼ਾਂ ਘਿਰੇ ਬਿਸ਼ਪ ਦਿੱਤੀ ਸਫ਼ਾਈ ਅਰਵਿੰਦ ਛ...</td>\n",
       "      <td>False</td>\n",
       "    </tr>\n",
       "  </tbody>\n",
       "</table>\n",
       "<p>627 rows × 2 columns</p>\n",
       "</div>"
      ],
      "text/plain": [
       "                                               article  is_about_politics\n",
       "0    ਮਾਇਆਵਤੀ ਮੁਲਾਇਮ ਸਿੰਘ ਯਾਦਵ ਦੁਸ਼ਮਣ ਬਣਾਉਣ ਵਾਲਾ ਗੈਸ...               True\n",
       "1    ਤੇਲਗੂ ਫਿਲਮ ਅਦਾਕਾਰਾ ਕਿਉਂ ਲਾਹੇ ਸੜਕ ਕੱਪੜੇ ਪਦਮਾ ਮੀ...              False\n",
       "2    ਵੈਸਟਮਿਨਸਟਰ ਕਾਰ ਹਾਦਸਾ ਸ਼ੱਕੀ ਅੱਤਵਾਦੀ ਵਾਰਦਾਤ ਦੋਸ਼...              False\n",
       "3    ਪਾਕਿਸਤਾਨ ਵਿੱਚ ਇਸਰਾਈਲ ਜਹਾਜ਼ ਇੰਝ ਮੱਚਾਈ ਤਰਥੱਲੀ ਤਾ...              False\n",
       "4    ਮਨਦੀਪ ਸਿੰਘ ਵੇਲੇ ਇਟਲੀ ਰਹਿ ਬੀਬੀਸੀ ਪੰਜਾਬੀ ਉਨ੍ਹਾਂ ...              False\n",
       "..                                                 ...                ...\n",
       "622  ਓਮ ਪੁਰੀ ਜਦੋਂ ਪੰਜਾਬੀ ਬੋਲਣ ਅੰਦਾਜ਼ ਬੰਦੇ ਇਲਾਕੇ ਬਾਰ...              False\n",
       "623  ਮੈਕਸੀਕੋ ਲੜਕੀ ਲੱਖਾਂ ਲੋਕ ਪਸੰਦ ਕਰਦੇ ਫਿਰ ਘਬਰਾਹਟ ਰਹ...              False\n",
       "624  ਸਿੱਖ ਕਤਲੇਆਮ ਸੱਜਣ ਕੁਮਾਰ ਕੁਮਾਰ ਸਣੇ ਆਗੂ ਜਿਨ੍ਹਾਂ ਲ...              False\n",
       "625  ਮੁਤਾਬਕ ਦੁਨੀਆਂ ਵਿੱਚ ਹਰ ਸਾਲ ਕਰੋੜ ਔਰਤਾਂ ਗਰਭਪਾਤ ਕਰ...              False\n",
       "626  ਬਲਾਤਕਾਰ ਦੋਸ਼ਾਂ ਘਿਰੇ ਬਿਸ਼ਪ ਦਿੱਤੀ ਸਫ਼ਾਈ ਅਰਵਿੰਦ ਛ...              False\n",
       "\n",
       "[627 rows x 2 columns]"
      ]
     },
     "execution_count": 48,
     "metadata": {},
     "output_type": "execute_result"
    }
   ],
   "source": [
    "data.article = testdata.Articles\n",
    "data"
   ]
  },
  {
   "cell_type": "code",
   "execution_count": null,
   "id": "5976afb0",
   "metadata": {},
   "outputs": [],
   "source": []
  }
 ],
 "metadata": {
  "kernelspec": {
   "display_name": "Python 3 (ipykernel)",
   "language": "python",
   "name": "python3"
  },
  "language_info": {
   "codemirror_mode": {
    "name": "ipython",
    "version": 3
   },
   "file_extension": ".py",
   "mimetype": "text/x-python",
   "name": "python",
   "nbconvert_exporter": "python",
   "pygments_lexer": "ipython3",
   "version": "3.10.2"
  }
 },
 "nbformat": 4,
 "nbformat_minor": 5
}
